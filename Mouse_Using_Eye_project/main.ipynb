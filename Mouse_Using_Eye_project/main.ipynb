{
 "cells": [
  {
   "cell_type": "code",
   "execution_count": 1,
   "id": "711c9685-a966-43b0-bf4f-11baa09ee6c5",
   "metadata": {
    "collapsed": true,
    "jupyter": {
     "outputs_hidden": true
    }
   },
   "outputs": [
    {
     "name": "stdout",
     "output_type": "stream",
     "text": [
      "Requirement already satisfied: opencv-contrib-python in c:\\users\\venka\\anaconda3\\lib\\site-packages (4.11.0.86)\n",
      "Requirement already satisfied: numpy>=1.21.2 in c:\\users\\venka\\anaconda3\\lib\\site-packages (from opencv-contrib-python) (1.26.4)\n",
      "Note: you may need to restart the kernel to use updated packages.\n"
     ]
    }
   ],
   "source": [
    "pip install opencv-contrib-python"
   ]
  },
  {
   "cell_type": "code",
   "execution_count": 2,
   "id": "5af63e43-91c1-42b3-a9e2-db75eb048e5d",
   "metadata": {
    "collapsed": true,
    "jupyter": {
     "outputs_hidden": true
    },
    "scrolled": true
   },
   "outputs": [
    {
     "name": "stdout",
     "output_type": "stream",
     "text": [
      "Requirement already satisfied: mediapipe in c:\\users\\venka\\anaconda3\\lib\\site-packages (0.10.21)\n",
      "Requirement already satisfied: absl-py in c:\\users\\venka\\anaconda3\\lib\\site-packages (from mediapipe) (2.3.0)\n",
      "Requirement already satisfied: attrs>=19.1.0 in c:\\users\\venka\\anaconda3\\lib\\site-packages (from mediapipe) (23.1.0)\n",
      "Requirement already satisfied: flatbuffers>=2.0 in c:\\users\\venka\\anaconda3\\lib\\site-packages (from mediapipe) (25.2.10)\n",
      "Requirement already satisfied: jax in c:\\users\\venka\\anaconda3\\lib\\site-packages (from mediapipe) (0.6.1)\n",
      "Requirement already satisfied: jaxlib in c:\\users\\venka\\anaconda3\\lib\\site-packages (from mediapipe) (0.6.1)\n",
      "Requirement already satisfied: matplotlib in c:\\users\\venka\\anaconda3\\lib\\site-packages (from mediapipe) (3.9.2)\n",
      "Requirement already satisfied: numpy<2 in c:\\users\\venka\\anaconda3\\lib\\site-packages (from mediapipe) (1.26.4)\n",
      "Requirement already satisfied: opencv-contrib-python in c:\\users\\venka\\anaconda3\\lib\\site-packages (from mediapipe) (4.11.0.86)\n",
      "Requirement already satisfied: protobuf<5,>=4.25.3 in c:\\users\\venka\\anaconda3\\lib\\site-packages (from mediapipe) (4.25.3)\n",
      "Requirement already satisfied: sounddevice>=0.4.4 in c:\\users\\venka\\anaconda3\\lib\\site-packages (from mediapipe) (0.5.2)\n",
      "Requirement already satisfied: sentencepiece in c:\\users\\venka\\anaconda3\\lib\\site-packages (from mediapipe) (0.2.0)\n",
      "Requirement already satisfied: CFFI>=1.0 in c:\\users\\venka\\anaconda3\\lib\\site-packages (from sounddevice>=0.4.4->mediapipe) (1.17.1)\n",
      "Requirement already satisfied: ml_dtypes>=0.5.0 in c:\\users\\venka\\anaconda3\\lib\\site-packages (from jax->mediapipe) (0.5.1)\n",
      "Requirement already satisfied: opt_einsum in c:\\users\\venka\\anaconda3\\lib\\site-packages (from jax->mediapipe) (3.4.0)\n",
      "Requirement already satisfied: scipy>=1.11.1 in c:\\users\\venka\\anaconda3\\lib\\site-packages (from jax->mediapipe) (1.13.1)\n",
      "Requirement already satisfied: contourpy>=1.0.1 in c:\\users\\venka\\anaconda3\\lib\\site-packages (from matplotlib->mediapipe) (1.2.0)\n",
      "Requirement already satisfied: cycler>=0.10 in c:\\users\\venka\\anaconda3\\lib\\site-packages (from matplotlib->mediapipe) (0.11.0)\n",
      "Requirement already satisfied: fonttools>=4.22.0 in c:\\users\\venka\\anaconda3\\lib\\site-packages (from matplotlib->mediapipe) (4.51.0)\n",
      "Requirement already satisfied: kiwisolver>=1.3.1 in c:\\users\\venka\\anaconda3\\lib\\site-packages (from matplotlib->mediapipe) (1.4.4)\n",
      "Requirement already satisfied: packaging>=20.0 in c:\\users\\venka\\anaconda3\\lib\\site-packages (from matplotlib->mediapipe) (24.1)\n",
      "Requirement already satisfied: pillow>=8 in c:\\users\\venka\\anaconda3\\lib\\site-packages (from matplotlib->mediapipe) (10.4.0)\n",
      "Requirement already satisfied: pyparsing>=2.3.1 in c:\\users\\venka\\anaconda3\\lib\\site-packages (from matplotlib->mediapipe) (3.1.2)\n",
      "Requirement already satisfied: python-dateutil>=2.7 in c:\\users\\venka\\anaconda3\\lib\\site-packages (from matplotlib->mediapipe) (2.9.0.post0)\n",
      "Requirement already satisfied: pycparser in c:\\users\\venka\\anaconda3\\lib\\site-packages (from CFFI>=1.0->sounddevice>=0.4.4->mediapipe) (2.21)\n",
      "Requirement already satisfied: six>=1.5 in c:\\users\\venka\\anaconda3\\lib\\site-packages (from python-dateutil>=2.7->matplotlib->mediapipe) (1.16.0)\n",
      "Note: you may need to restart the kernel to use updated packages.\n"
     ]
    }
   ],
   "source": [
    "pip install mediapipe  "
   ]
  },
  {
   "cell_type": "markdown",
   "id": "3c8052b1-d164-4636-9b57-43698cf8610a",
   "metadata": {},
   "source": [
    "#### mediapipe package:\n",
    "- to detect eye movement / face\n",
    "- developed by google\n",
    "#### cv2\n",
    "- used for image processing\n",
    "#### pyautogui\n",
    "- for mouse \n"
   ]
  },
  {
   "cell_type": "markdown",
   "id": "5c4dbc52-2fc5-4655-972a-ce846267e730",
   "metadata": {},
   "source": [
    "### Process\n",
    "- importing cv2\n",
    "- read the camera\n",
    "- continusily get the frame of your video"
   ]
  },
  {
   "cell_type": "code",
   "execution_count": 3,
   "id": "44852551-89f4-4dcf-bcbc-596fcc435fbd",
   "metadata": {
    "collapsed": true,
    "jupyter": {
     "outputs_hidden": true
    }
   },
   "outputs": [
    {
     "name": "stdout",
     "output_type": "stream",
     "text": [
      "Requirement already satisfied: PyAutoGUI in c:\\users\\venka\\anaconda3\\lib\\site-packages (0.9.54)\n",
      "Requirement already satisfied: pymsgbox in c:\\users\\venka\\anaconda3\\lib\\site-packages (from PyAutoGUI) (1.0.9)\n",
      "Requirement already satisfied: pytweening>=1.0.4 in c:\\users\\venka\\anaconda3\\lib\\site-packages (from PyAutoGUI) (1.2.0)\n",
      "Requirement already satisfied: pyscreeze>=0.1.21 in c:\\users\\venka\\anaconda3\\lib\\site-packages (from PyAutoGUI) (1.0.1)\n",
      "Requirement already satisfied: pygetwindow>=0.0.5 in c:\\users\\venka\\anaconda3\\lib\\site-packages (from PyAutoGUI) (0.0.9)\n",
      "Requirement already satisfied: mouseinfo in c:\\users\\venka\\anaconda3\\lib\\site-packages (from PyAutoGUI) (0.1.3)\n",
      "Requirement already satisfied: pyrect in c:\\users\\venka\\anaconda3\\lib\\site-packages (from pygetwindow>=0.0.5->PyAutoGUI) (0.2.0)\n",
      "Requirement already satisfied: pyperclip in c:\\users\\venka\\anaconda3\\lib\\site-packages (from mouseinfo->PyAutoGUI) (1.9.0)\n",
      "Note: you may need to restart the kernel to use updated packages.\n"
     ]
    }
   ],
   "source": [
    "pip install PyAutoGUI"
   ]
  },
  {
   "cell_type": "code",
   "execution_count": 4,
   "id": "26dfda81-e7bd-4e9a-8104-7f29308850ad",
   "metadata": {},
   "outputs": [],
   "source": [
    "import cv2\n",
    "import mediapipe as mp\n",
    "import pyautogui "
   ]
  },
  {
   "cell_type": "code",
   "execution_count": 5,
   "id": "bf6b8b43-d2f3-45c4-8e46-5eb5d8821ef3",
   "metadata": {},
   "outputs": [],
   "source": [
    "cam = cv2.VideoCapture(0)  # to capture the video at 0th index(1st device)\n",
    "face_mesh = mp.solutions.face_mesh.FaceMesh(refine_landmarks = True)  # to detect the face\n",
    "    # refine_landmarks = True  --> gives only 478 landmarks\n",
    "    # every landmark identifies different part of your face"
   ]
  },
  {
   "cell_type": "code",
   "execution_count": 6,
   "id": "0534dfc5-fcc9-4404-8ffc-2d7eebb64eb7",
   "metadata": {},
   "outputs": [],
   "source": [
    "# to get the screen size\n",
    "screen_w, screen_h = pyautogui.size()"
   ]
  },
  {
   "cell_type": "code",
   "execution_count": null,
   "id": "6c3f2b25-63bc-4e12-8d9e-1631a796973c",
   "metadata": {},
   "outputs": [],
   "source": [
    "while True:\n",
    "    _, frame = cam.read()  \n",
    "    frame = cv2.flip(frame,1)  # just flip the frame to get the exact reflection of your face, 1 means vertically\n",
    "    rgb_frame = cv2.cvtColor(frame, cv2.COLOR_BGR2RGB)\n",
    "    output = face_mesh.process(rgb_frame)\n",
    "    landmark_points = output.multi_face_landmarks\n",
    "    # print(landmark_points)\n",
    "\n",
    "    # to find height, width and dimension of the frame  \n",
    "    # we don't want dimension to we placed _ there \n",
    "    frame_h, frame_w, _ = frame.shape\n",
    "    \n",
    "    # if we want to draw the circle kind of shape for the face\n",
    "    # it is only possible with integers\n",
    "    \n",
    "    if landmark_points:\n",
    "        # to get landmarks of only one face at 0th index\n",
    "        landmarks = landmark_points[0].landmark\n",
    "\n",
    "        # [474:478] is to detect only eyes\n",
    "        # id is index, movement is captured based on only one index\n",
    "        for id, landmark in enumerate(landmarks[474:478]):\n",
    "            x = int(landmark.x * frame_w)\n",
    "            y = int(landmark.y * frame_h)\n",
    "\n",
    "            # to draw the circle for the face\n",
    "            # 3 is the radius, (x,y) is the center, (0,255,0) is the rgb color of green\n",
    "            cv2.circle(frame, (x,y), 3, (0,255,0))\n",
    "\n",
    "            # to move the cursor\n",
    "            if id == 1:\n",
    "                # to scale the screen size\n",
    "                screen_x = screen_w / frame_w * x\n",
    "                screen_y = screen_h / frame_h * y\n",
    "                pyautogui.moveTo(screen_x, screen_y)\n",
    "            \n",
    "            #print(x,y)\n",
    "        \n",
    "        left = [landmarks[145], landmarks[159]]\n",
    "        for landmark in left:\n",
    "            x = int(landmark.x * frame_w)\n",
    "            y = int(landmark.y * frame_h)\n",
    "            cv2.circle(frame, (x,y), 3, (0,255,255))  # yellow colour\n",
    "        # print(left[0].y, left[1].y)  # when blinking y is changing (vertical)\n",
    "        # print(left[0].y - left[1].y) # difference between upper and lower eye brow\n",
    "            # the difference is like 0.008 something when you closed\n",
    "            # the difference is like 0.02 something when you open your eye\n",
    "            if (left[0].y-left[1].y) < 0.008:\n",
    "                # print(\"click\")\n",
    "                pyautogui.click()\n",
    "                pyautogui.sleep(1)\n",
    "    cv2.imshow('Eye Controlled Mouse', frame)\n",
    "    cv2.waitKey(1)"
   ]
  }
 ],
 "metadata": {
  "kernelspec": {
   "display_name": "Python [conda env:base] *",
   "language": "python",
   "name": "conda-base-py"
  },
  "language_info": {
   "codemirror_mode": {
    "name": "ipython",
    "version": 3
   },
   "file_extension": ".py",
   "mimetype": "text/x-python",
   "name": "python",
   "nbconvert_exporter": "python",
   "pygments_lexer": "ipython3",
   "version": "3.12.7"
  }
 },
 "nbformat": 4,
 "nbformat_minor": 5
}
